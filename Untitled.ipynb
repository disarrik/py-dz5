{
 "cells": [
  {
   "cell_type": "code",
   "execution_count": 1,
   "id": "c08c4169-f1ce-4940-9fae-acbd6ec665ab",
   "metadata": {},
   "outputs": [],
   "source": [
    "import threading\n",
    "from math import pow\n",
    "from time import process_time"
   ]
  },
  {
   "cell_type": "code",
   "execution_count": 2,
   "id": "ef6cade8-0048-464f-b1d0-7a0faa8e5d33",
   "metadata": {},
   "outputs": [],
   "source": [
    "def benchmark(alias):\n",
    "    def decorator_factory(func): \n",
    "        def dec(*args, **kwargs):\n",
    "        \n",
    "            timer = args[len(args) - 1]\n",
    "            begin = process_time()\n",
    "            a = func(*args[:len(args) - 1], **kwargs)\n",
    "            end = process_time()\n",
    "            timer[alias] += end - begin\n",
    "            return a\n",
    "        return dec\n",
    "    return decorator_factory\n",
    "        \n",
    "        \n",
    "        "
   ]
  },
  {
   "cell_type": "code",
   "execution_count": 3,
   "id": "cbc6a146-96d6-47f5-9168-054691098483",
   "metadata": {},
   "outputs": [],
   "source": [
    "@benchmark(alias = 'f1')\n",
    "def f1(x, results):\n",
    "    results[0] = pow(x, 2) - pow(x, 2) + pow(x, 4) - pow(x, 5) + x"
   ]
  },
  {
   "cell_type": "code",
   "execution_count": 4,
   "id": "c3834624-2d82-429e-89a3-7fd021b824ea",
   "metadata": {},
   "outputs": [],
   "source": [
    "@benchmark(alias = 'f2')\n",
    "def f2(x, results):\n",
    "    results[1] = x+x"
   ]
  },
  {
   "cell_type": "code",
   "execution_count": 5,
   "id": "d4fbc1d5-f797-428b-9f8e-4836c4b3af66",
   "metadata": {},
   "outputs": [],
   "source": [
    "@benchmark(alias = 'f3')\n",
    "def f3(results):\n",
    "    results[2] = results[1] + results[0]"
   ]
  },
  {
   "cell_type": "code",
   "execution_count": 6,
   "id": "1aa34cfa-3c6c-46e0-aa54-eafaa93b8e29",
   "metadata": {},
   "outputs": [],
   "source": [
    "@benchmark(alias = 'total')\n",
    "def run(x):\n",
    "    results = {}\n",
    "    t1 = threading.Thread(target=f1, args=[x, results, timers])\n",
    "    t1.start()\n",
    "    t2 = threading.Thread(target=f2, args=[x, results, timers])\n",
    "    t2.start()\n",
    "    t1.join()\n",
    "    t2.join()\n",
    "    t3 = threading.Thread(target=f3, args=[results, timers])\n",
    "    t3.start()\n",
    "    t3.join()\n",
    "    return results[2]\n"
   ]
  },
  {
   "cell_type": "code",
   "execution_count": 7,
   "id": "afa4e43c-02b0-43c1-a3ee-220b83d4f762",
   "metadata": {},
   "outputs": [
    {
     "name": "stdout",
     "output_type": "stream",
     "text": [
      "{'f1': 0.16938100000001688, 'f2': 0.11947100000007538, 'f3': 0.12869700000005313, 'total': 9.343333999999977}\n",
      "{'f1': 1.2381689999990382, 'f2': 0.899352000000901, 'f3': 0.9648770000013993, 'total': 72.67715900000029}\n"
     ]
    }
   ],
   "source": [
    "for i in (10000, 100000):\n",
    "    timers = {'f1': 0, 'f2': 0, 'f3': 0, 'total': 0}\n",
    "    for k in range(i):\n",
    "        run(2, timers)\n",
    "    print(timers)"
   ]
  },
  {
   "cell_type": "code",
   "execution_count": 8,
   "id": "9f0aa1b2-7e0d-498f-9614-78767ec330ea",
   "metadata": {},
   "outputs": [],
   "source": [
    "# Почему total намного больше чем сумма всех трех операций: потому что сами функции очень простые \n",
    "# и издержки опреационной системы на синхронизацию потоков превышают время полезной работы"
   ]
  },
  {
   "cell_type": "code",
   "execution_count": null,
   "id": "3cd34e73-3757-4fd5-8242-e719d37f9f6a",
   "metadata": {},
   "outputs": [],
   "source": []
  }
 ],
 "metadata": {
  "kernelspec": {
   "display_name": "Python 3 (ipykernel)",
   "language": "python",
   "name": "python3"
  },
  "language_info": {
   "codemirror_mode": {
    "name": "ipython",
    "version": 3
   },
   "file_extension": ".py",
   "mimetype": "text/x-python",
   "name": "python",
   "nbconvert_exporter": "python",
   "pygments_lexer": "ipython3",
   "version": "3.12.7"
  }
 },
 "nbformat": 4,
 "nbformat_minor": 5
}
